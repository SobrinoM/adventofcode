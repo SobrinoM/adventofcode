{
 "cells": [
  {
   "cell_type": "code",
   "execution_count": 1,
   "metadata": {},
   "outputs": [],
   "source": [
    "import pandas as pd\n",
    "import numpy as np"
   ]
  },
  {
   "cell_type": "code",
   "execution_count": 2,
   "metadata": {},
   "outputs": [
    {
     "data": {
      "text/html": "<div>\n<style scoped>\n    .dataframe tbody tr th:only-of-type {\n        vertical-align: middle;\n    }\n\n    .dataframe tbody tr th {\n        vertical-align: top;\n    }\n\n    .dataframe thead th {\n        text-align: right;\n    }\n</style>\n<table border=\"1\" class=\"dataframe\">\n  <thead>\n    <tr style=\"text-align: right;\">\n      <th></th>\n      <th>Int</th>\n    </tr>\n  </thead>\n  <tbody>\n    <tr>\n      <th>0</th>\n      <td>1</td>\n    </tr>\n    <tr>\n      <th>1</th>\n      <td>0</td>\n    </tr>\n    <tr>\n      <th>2</th>\n      <td>0</td>\n    </tr>\n    <tr>\n      <th>3</th>\n      <td>3</td>\n    </tr>\n    <tr>\n      <th>4</th>\n      <td>1</td>\n    </tr>\n  </tbody>\n</table>\n</div>",
      "text/plain": "   Int\n0    1\n1    0\n2    0\n3    3\n4    1"
     },
     "execution_count": 2,
     "metadata": {},
     "output_type": "execute_result"
    }
   ],
   "source": [
    "data = pd.read_csv(\"Challenge2_IntCode.csv\", header=None).T\n",
    "data.columns = ['Int']\n",
    "\n",
    "data.head(5)"
   ]
  },
  {
   "cell_type": "code",
   "execution_count": 10,
   "metadata": {},
   "outputs": [
    {
     "ename": "NameError",
     "evalue": "name 'data' is not defined",
     "output_type": "error",
     "traceback": [
      "\u001b[1;31m---------------------------------------------------------------------------\u001b[0m",
      "\u001b[1;31mNameError\u001b[0m                                 Traceback (most recent call last)",
      "\u001b[1;32m<ipython-input-10-654ead08f04c>\u001b[0m in \u001b[0;36m<module>\u001b[1;34m\u001b[0m\n\u001b[0;32m      1\u001b[0m \u001b[1;31m# PART I\u001b[0m\u001b[1;33m\u001b[0m\u001b[1;33m\u001b[0m\u001b[1;33m\u001b[0m\u001b[0m\n\u001b[1;32m----> 2\u001b[1;33m \u001b[0mdata\u001b[0m\u001b[1;33m[\u001b[0m\u001b[1;34m'Int'\u001b[0m\u001b[1;33m]\u001b[0m\u001b[1;33m[\u001b[0m\u001b[1;36m1\u001b[0m\u001b[1;33m]\u001b[0m\u001b[1;33m=\u001b[0m\u001b[1;36m12\u001b[0m\u001b[1;33m\u001b[0m\u001b[1;33m\u001b[0m\u001b[0m\n\u001b[0m\u001b[0;32m      3\u001b[0m \u001b[0mdata\u001b[0m\u001b[1;33m[\u001b[0m\u001b[1;34m'Int'\u001b[0m\u001b[1;33m]\u001b[0m\u001b[1;33m[\u001b[0m\u001b[1;36m2\u001b[0m\u001b[1;33m]\u001b[0m\u001b[1;33m=\u001b[0m\u001b[1;36m2\u001b[0m\u001b[1;33m\u001b[0m\u001b[1;33m\u001b[0m\u001b[0m\n\u001b[0;32m      4\u001b[0m \u001b[1;33m\u001b[0m\u001b[0m\n\u001b[0;32m      5\u001b[0m \u001b[1;33m\u001b[0m\u001b[0m\n",
      "\u001b[1;31mNameError\u001b[0m: name 'data' is not defined"
     ]
    }
   ],
   "source": [
    "# PART I\n",
    "data['Int'][1]=12\n",
    "data['Int'][2]=2\n",
    "\n",
    "\n",
    "i=0;\n",
    "max_i = data.size \n",
    "while (i <max_i):\n",
    "    transformID = data['Int'][i] \n",
    "    print('TransformID', transformID)\n",
    "    if transformID == 1:\n",
    "\n",
    "        data.loc[data.iloc[i+3].Int].Int = data.loc[data.iloc[i+1].Int].Int + data.loc[data.iloc[i+2].Int].Int\n",
    "    elif transformID == 2:\n",
    "        data.loc[data.iloc[i+3].Int].Int = data.loc[data.iloc[i+1].Int].Int * data.loc[data.iloc[i+2].Int].Int\n",
    "    elif transformID == 99: \n",
    "        break\n",
    "    else:\n",
    "        print('else')\n",
    "    i+=4"
   ]
  },
  {
   "cell_type": "code",
   "execution_count": 17,
   "metadata": {},
   "outputs": [
    {
     "name": "stdout",
     "output_type": "stream",
     "text": "1\n0 0 1114711\n1114711\n0 1 1114711\n1114711\n0 2 1114711\n1114711\n0 3 1114711\n1114711\n0 4 1114711\n1114711\n0 5 1114711\n1114711\n0 6 1114711\n1114711\n0 7 1114711\n1114711\n0 8 1114711\n1114711\n0 9 1114711\n1114711\n1 0 1114711\n1114711\n1 1 1114711\n1114711\n1 2 1114711\n1114711\n1 3 1114711\n1114711\n1 4 1114711\n1114711\n1 5 1114711\n1114711\n1 6 1114711\n1114711\n1 7 1114711\n1114711\n1 8 1114711\n1114711\n1 9 1114711\n1114711\n2 0 1114711\n1114711\n2 1 1114711\n1114711\n2 2 1114711\n1114711\n2 3 1114711\n1114711\n2 4 1114711\n1114711\n2 5 1114711\n1114711\n2 6 1114711\n1114711\n2 7 1114711\n1114711\n2 8 1114711\n1114711\n2 9 1114711\n1114711\n3 0 1114711\n1114711\n3 1 1114711\n1114711\n3 2 1114711\n1114711\n3 3 1114711\n1114711\n3 4 1114711\n1114711\n3 5 1114711\n1114711\n3 6 1114711\n1114711\n3 7 1114711\n1114711\n3 8 1114711\n1114711\n3 9 1114711\n1114711\n4 0 1114711\n1114711\n4 1 1114711\n1114711\n4 2 1114711\n1114711\n4 3 1114711\n1114711\n4 4 1114711\n1114711\n4 5 1114711\n1114711\n4 6 1114711\n1114711\n4 7 1114711\n1114711\n4 8 1114711\n1114711\n4 9 1114711\n1114711\n5 0 1114711\n1114711\n5 1 1114711\n1114711\n5 2 1114711\n1114711\n5 3 1114711\n1114711\n5 4 1114711\n1114711\n5 5 1114711\n1114711\n5 6 1114711\n1114711\n5 7 1114711\n1114711\n5 8 1114711\n1114711\n5 9 1114711\n1114711\n6 0 1114711\n1114711\n6 1 1114711\n1114711\n6 2 1114711\n1114711\n6 3 1114711\n1114711\n6 4 1114711\n1114711\n6 5 1114711\n1114711\n6 6 1114711\n1114711\n6 7 1114711\n1114711\n6 8 1114711\n1114711\n6 9 1114711\n1114711\n7 0 1114711\n1114711\n7 1 1114711\n1114711\n7 2 1114711\n1114711\n7 3 1114711\n1114711\n7 4 1114711\n1114711\n7 5 1114711\n1114711\n7 6 1114711\n1114711\n7 7 1114711\n1114711\n7 8 1114711\n1114711\n7 9 1114711\n1114711\n8 0 1114711\n1114711\n8 1 1114711\n1114711\n8 2 1114711\n1114711\n8 3 1114711\n1114711\n8 4 1114711\n1114711\n8 5 1114711\n1114711\n8 6 1114711\n1114711\n8 7 1114711\n1114711\n8 8 1114711\n1114711\n8 9 1114711\n1114711\n9 0 1114711\n1114711\n9 1 1114711\n1114711\n9 2 1114711\n1114711\n9 3 1114711\n1114711\n9 4 1114711\n1114711\n9 5 1114711\n1114711\n9 6 1114711\n1114711\n9 7 1114711\n1114711\n9 8 1114711\n1114711\n9 9 1114711\n"
    }
   ],
   "source": [
    "# PART II\n",
    "dataImport = pd.read_csv(\"Challenge2_IntCode.csv\", header=None).T\n",
    "dataImport.columns = ['Int'];\n",
    "i=0\n",
    "max_i = dataImport.size \n",
    "for k in range(10):\n",
    "    for l in range(10):\n",
    "        data = dataImport\n",
    "        data['Int'][1]=k\n",
    "        data['Int'][2]=l\n",
    "        print(dataImport['Int'][0])\n",
    "        while (i <max_i):\n",
    "            transformID = data['Int'][i] \n",
    "            #print('TransformID', transformID)\n",
    "            if transformID == 1:            \n",
    "                data.loc[data.iloc[i+3].Int].Int = data.loc[data.iloc[i+1].Int].Int + data.loc[data.iloc[i+2].Int].Int\n",
    "            elif transformID == 2:\n",
    "                data.loc[data.iloc[i+3].Int].Int = data.loc[data.iloc[i+1].Int].Int * data.loc[data.iloc[i+2].Int].Int\n",
    "            elif transformID == 99: \n",
    "                print(k,l,data['Int'][0])\n",
    "                break\n",
    "            else:\n",
    "                print(k,l,data['Int'][0])\n",
    "                break\n",
    "            i+=4\n",
    "        if (data['Int'][0]==19690720):\n",
    "            print('FINISHED', k,l)\n",
    "        del data\n"
   ]
  },
  {
   "cell_type": "code",
   "execution_count": 4,
   "metadata": {},
   "outputs": [
    {
     "data": {
      "text/html": "<div>\n<style scoped>\n    .dataframe tbody tr th:only-of-type {\n        vertical-align: middle;\n    }\n\n    .dataframe tbody tr th {\n        vertical-align: top;\n    }\n\n    .dataframe thead th {\n        text-align: right;\n    }\n</style>\n<table border=\"1\" class=\"dataframe\">\n  <thead>\n    <tr style=\"text-align: right;\">\n      <th></th>\n      <th>Int</th>\n    </tr>\n  </thead>\n  <tbody>\n    <tr>\n      <th>0</th>\n      <td>3706713</td>\n    </tr>\n  </tbody>\n</table>\n</div>",
      "text/plain": "       Int\n0  3706713"
     },
     "execution_count": 4,
     "metadata": {},
     "output_type": "execute_result"
    }
   ],
   "source": [
    "data.head(1)"
   ]
  },
  {
   "cell_type": "code",
   "execution_count": null,
   "metadata": {},
   "outputs": [],
   "source": []
  }
 ],
 "metadata": {
  "kernelspec": {
   "display_name": "Python 3",
   "language": "python",
   "name": "python3"
  },
  "language_info": {
   "codemirror_mode": {
    "name": "ipython",
    "version": 3
   },
   "file_extension": ".py",
   "mimetype": "text/x-python",
   "name": "python",
   "nbconvert_exporter": "python",
   "pygments_lexer": "ipython3",
   "version": "3.7.3"
  }
 },
 "nbformat": 4,
 "nbformat_minor": 4
}